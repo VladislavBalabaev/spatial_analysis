{
 "cells": [
  {
   "cell_type": "markdown",
   "source": [
    "2) Пространственный анализ. Зайти с точки зрения покупателей. Закрытое объявление считается продажей. Забахать гравитационную модель. По характеристикам населения.\n",
    "Плотность автодорог и цены перевозок. (Число автомобилей на душу населения не гарантирует консистентность спроса)."
   ],
   "metadata": {
    "collapsed": false
   }
  },
  {
   "cell_type": "code",
   "execution_count": null,
   "outputs": [],
   "source": [
    "import pandas as pd\n",
    "\n",
    "df = pd.read_csv('/home/balabaev/All/WORK/1_at_NSU/2_Market_of_cars/Drom/data/dataframes/final/cars_final.tsv',\n",
    "                 sep='\\t', header=0, skiprows=range(1, 1000000))\n",
    "df"
   ],
   "metadata": {
    "collapsed": false
   }
  },
  {
   "cell_type": "code",
   "execution_count": null,
   "outputs": [],
   "source": [],
   "metadata": {
    "collapsed": false
   }
  }
 ],
 "metadata": {
  "kernelspec": {
   "display_name": "Python 3",
   "language": "python",
   "name": "python3"
  },
  "language_info": {
   "codemirror_mode": {
    "name": "ipython",
    "version": 2
   },
   "file_extension": ".py",
   "mimetype": "text/x-python",
   "name": "python",
   "nbconvert_exporter": "python",
   "pygments_lexer": "ipython2",
   "version": "2.7.6"
  }
 },
 "nbformat": 4,
 "nbformat_minor": 0
}
