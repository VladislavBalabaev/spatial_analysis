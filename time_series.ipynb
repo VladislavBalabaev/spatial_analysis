{
 "cells": [
  {
   "cell_type": "markdown",
   "source": [
    "1) Анализ временных рядов помесячных продаж (с 2006 г.) б/у и новых автомобилей.\n",
    "Построить ARIMA и ECM, показатели взять: общий уровень цен, курс валюты, ВВП (лучше не его), уровень доходов.\n",
    "Лучше, если по регионам."
   ],
   "metadata": {
    "collapsed": false
   }
  },
  {
   "cell_type": "markdown",
   "source": [
    "http://greenway.icnet.ru/cars-sales-actual-russia.html"
   ],
   "metadata": {
    "collapsed": false
   }
  },
  {
   "cell_type": "markdown",
   "source": [
    "Рынок легковых автомобилей с пробегом в сентябре 2022 года\n",
    "За дополнительной информацией обращайтесь в агентство «АВТОСТАТ» к Азату Тимерханову\n",
    "по телефонам: +7 (8482) 95-64-36, +7 (499) 685-01-51, или по e-mail: press@autostat.ru"
   ],
   "metadata": {
    "collapsed": false
   }
  },
  {
   "cell_type": "code",
   "execution_count": 85,
   "outputs": [
    {
     "data": {
      "text/plain": "          date  demand_new\n0   2006-01-01       95253\n1   2006-02-01      116309\n2   2006-03-01      147308\n3   2006-04-01      169045\n4   2006-05-01      165121\n..         ...         ...\n198 2022-07-01       36605\n199 2022-08-01       47090\n200 2022-09-01       52738\n201 2022-10-01       45228\n202 2022-11-01       46403\n\n[203 rows x 2 columns]",
      "text/html": "<div>\n<style scoped>\n    .dataframe tbody tr th:only-of-type {\n        vertical-align: middle;\n    }\n\n    .dataframe tbody tr th {\n        vertical-align: top;\n    }\n\n    .dataframe thead th {\n        text-align: right;\n    }\n</style>\n<table border=\"1\" class=\"dataframe\">\n  <thead>\n    <tr style=\"text-align: right;\">\n      <th></th>\n      <th>date</th>\n      <th>demand_new</th>\n    </tr>\n  </thead>\n  <tbody>\n    <tr>\n      <th>0</th>\n      <td>2006-01-01</td>\n      <td>95253</td>\n    </tr>\n    <tr>\n      <th>1</th>\n      <td>2006-02-01</td>\n      <td>116309</td>\n    </tr>\n    <tr>\n      <th>2</th>\n      <td>2006-03-01</td>\n      <td>147308</td>\n    </tr>\n    <tr>\n      <th>3</th>\n      <td>2006-04-01</td>\n      <td>169045</td>\n    </tr>\n    <tr>\n      <th>4</th>\n      <td>2006-05-01</td>\n      <td>165121</td>\n    </tr>\n    <tr>\n      <th>...</th>\n      <td>...</td>\n      <td>...</td>\n    </tr>\n    <tr>\n      <th>198</th>\n      <td>2022-07-01</td>\n      <td>36605</td>\n    </tr>\n    <tr>\n      <th>199</th>\n      <td>2022-08-01</td>\n      <td>47090</td>\n    </tr>\n    <tr>\n      <th>200</th>\n      <td>2022-09-01</td>\n      <td>52738</td>\n    </tr>\n    <tr>\n      <th>201</th>\n      <td>2022-10-01</td>\n      <td>45228</td>\n    </tr>\n    <tr>\n      <th>202</th>\n      <td>2022-11-01</td>\n      <td>46403</td>\n    </tr>\n  </tbody>\n</table>\n<p>203 rows × 2 columns</p>\n</div>"
     },
     "execution_count": 85,
     "metadata": {},
     "output_type": "execute_result"
    }
   ],
   "source": [
    "import pandas as pd\n",
    "\n",
    "df = pd.read_excel('demand_for_new_cars.xlsx')  # https://auto.vercity.ru/statistics/sales/europe/russia/\n",
    "\n",
    "df = pd.melt(df, id_vars=['Year'])\\\n",
    "    .rename({'variable': 'Month', 'value': 'demand_new'}, axis=1)\n",
    "df['Month'] = pd.to_datetime(df['Month'], format='%B').dt.month\n",
    "df['date'] = pd.to_datetime(df[['Year', 'Month']].assign(DAY=1))\n",
    "df = df[['date', 'demand_new']].sort_values(['date']).reset_index(drop=True)\n",
    "\n",
    "# print(df.tail(3))\n",
    "df = df[:-1]\n",
    "\n",
    "df['demand_new'] = df['demand_new'].apply(lambda x: x.replace(' ', '')).astype('int')\n",
    "\n",
    "df"
   ],
   "metadata": {
    "collapsed": false
   }
  },
  {
   "cell_type": "code",
   "execution_count": 86,
   "outputs": [
    {
     "data": {
      "text/plain": "          date  inflation_rate\n0   1991-01-01          109.00\n1   1991-02-01          105.90\n2   1991-03-01          104.60\n3   1991-04-01          170.50\n4   1991-05-01          105.40\n..         ...             ...\n378 2022-07-01           99.56\n379 2022-08-01           99.95\n380 2022-09-01          100.15\n381 2022-10-01          100.04\n382 2022-11-01          100.06\n\n[383 rows x 2 columns]",
      "text/html": "<div>\n<style scoped>\n    .dataframe tbody tr th:only-of-type {\n        vertical-align: middle;\n    }\n\n    .dataframe tbody tr th {\n        vertical-align: top;\n    }\n\n    .dataframe thead th {\n        text-align: right;\n    }\n</style>\n<table border=\"1\" class=\"dataframe\">\n  <thead>\n    <tr style=\"text-align: right;\">\n      <th></th>\n      <th>date</th>\n      <th>inflation_rate</th>\n    </tr>\n  </thead>\n  <tbody>\n    <tr>\n      <th>0</th>\n      <td>1991-01-01</td>\n      <td>109.00</td>\n    </tr>\n    <tr>\n      <th>1</th>\n      <td>1991-02-01</td>\n      <td>105.90</td>\n    </tr>\n    <tr>\n      <th>2</th>\n      <td>1991-03-01</td>\n      <td>104.60</td>\n    </tr>\n    <tr>\n      <th>3</th>\n      <td>1991-04-01</td>\n      <td>170.50</td>\n    </tr>\n    <tr>\n      <th>4</th>\n      <td>1991-05-01</td>\n      <td>105.40</td>\n    </tr>\n    <tr>\n      <th>...</th>\n      <td>...</td>\n      <td>...</td>\n    </tr>\n    <tr>\n      <th>378</th>\n      <td>2022-07-01</td>\n      <td>99.56</td>\n    </tr>\n    <tr>\n      <th>379</th>\n      <td>2022-08-01</td>\n      <td>99.95</td>\n    </tr>\n    <tr>\n      <th>380</th>\n      <td>2022-09-01</td>\n      <td>100.15</td>\n    </tr>\n    <tr>\n      <th>381</th>\n      <td>2022-10-01</td>\n      <td>100.04</td>\n    </tr>\n    <tr>\n      <th>382</th>\n      <td>2022-11-01</td>\n      <td>100.06</td>\n    </tr>\n  </tbody>\n</table>\n<p>383 rows × 2 columns</p>\n</div>"
     },
     "execution_count": 86,
     "metadata": {},
     "output_type": "execute_result"
    }
   ],
   "source": [
    "# Индексы потребительских цен на непродовольственные товары по Российской Федерации в 1991-2022гг.\n",
    "inf_df = pd.read_excel('inflation.xlsx')  # https://rosstat.gov.ru/statistics/price\n",
    "\n",
    "inf_df = pd.melt(inf_df, id_vars=['month'])\\\n",
    "    .rename({'variable': 'year', 'value': 'inflation_rate'}, axis=1)\n",
    "inf_df['date'] = pd.to_datetime(inf_df[['year', 'month']].assign(DAY=1))\n",
    "\n",
    "inf_df = inf_df[['date', 'inflation_rate']].sort_values(['date']).reset_index(drop=True)\n",
    "\n",
    "# print(inf_df.tail(3))\n",
    "inf_df = inf_df[:-1]\n",
    "\n",
    "inf_df['inflation_rate'] = inf_df['inflation_rate'].astype('float')\n",
    "\n",
    "inf_df"
   ],
   "metadata": {
    "collapsed": false
   }
  },
  {
   "cell_type": "code",
   "execution_count": null,
   "outputs": [],
   "source": [],
   "metadata": {
    "collapsed": false
   }
  }
 ],
 "metadata": {
  "kernelspec": {
   "display_name": "Python 3",
   "language": "python",
   "name": "python3"
  },
  "language_info": {
   "codemirror_mode": {
    "name": "ipython",
    "version": 2
   },
   "file_extension": ".py",
   "mimetype": "text/x-python",
   "name": "python",
   "nbconvert_exporter": "python",
   "pygments_lexer": "ipython2",
   "version": "2.7.6"
  }
 },
 "nbformat": 4,
 "nbformat_minor": 0
}
