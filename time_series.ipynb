{
 "cells": [
  {
   "cell_type": "markdown",
   "source": [
    "1) Анализ временных рядов помесячных продаж (с 2006 г.) б/у и новых автомобилей.\n",
    "Построить ARIMA и ECM, показатели взять: общий уровень цен, курс валюты, ВВП (лучше не его), уровень доходов.\n",
    "Лучше, если по регионам."
   ],
   "metadata": {
    "collapsed": false
   }
  },
  {
   "cell_type": "markdown",
   "source": [
    "http://greenway.icnet.ru/cars-sales-actual-russia.html - useful material\n",
    "https://www.autostat.ru/press-releases/47248/ - top 30 regions by ..."
   ],
   "metadata": {
    "collapsed": false
   }
  },
  {
   "cell_type": "markdown",
   "source": [
    "Рынок легковых автомобилей с пробегом в сентябре 2022 года\n",
    "За дополнительной информацией обращайтесь в агентство «АВТОСТАТ» к Азату Тимерханову\n",
    "по телефонам: +7 (8482) 95-64-36, +7 (499) 685-01-51, или по e-mail: press@autostat.ru"
   ],
   "metadata": {
    "collapsed": false
   }
  },
  {
   "cell_type": "code",
   "execution_count": 105,
   "outputs": [
    {
     "data": {
      "text/plain": "        date  demand_new\n0 2006-01-01       95253\n1 2006-02-01      116309\n2 2006-03-01      147308\n3 2006-04-01      169045\n4 2006-05-01      165121",
      "text/html": "<div>\n<style scoped>\n    .dataframe tbody tr th:only-of-type {\n        vertical-align: middle;\n    }\n\n    .dataframe tbody tr th {\n        vertical-align: top;\n    }\n\n    .dataframe thead th {\n        text-align: right;\n    }\n</style>\n<table border=\"1\" class=\"dataframe\">\n  <thead>\n    <tr style=\"text-align: right;\">\n      <th></th>\n      <th>date</th>\n      <th>demand_new</th>\n    </tr>\n  </thead>\n  <tbody>\n    <tr>\n      <th>0</th>\n      <td>2006-01-01</td>\n      <td>95253</td>\n    </tr>\n    <tr>\n      <th>1</th>\n      <td>2006-02-01</td>\n      <td>116309</td>\n    </tr>\n    <tr>\n      <th>2</th>\n      <td>2006-03-01</td>\n      <td>147308</td>\n    </tr>\n    <tr>\n      <th>3</th>\n      <td>2006-04-01</td>\n      <td>169045</td>\n    </tr>\n    <tr>\n      <th>4</th>\n      <td>2006-05-01</td>\n      <td>165121</td>\n    </tr>\n  </tbody>\n</table>\n</div>"
     },
     "execution_count": 105,
     "metadata": {},
     "output_type": "execute_result"
    }
   ],
   "source": [
    "import pandas as pd\n",
    "\n",
    "df = pd.read_excel('demand_for_new_cars.xlsx')  # https://auto.vercity.ru/statistics/sales/europe/russia/\n",
    "\n",
    "df = pd.melt(df, id_vars=['Year'])\\\n",
    "    .rename({'variable': 'Month', 'value': 'demand_new'}, axis=1)\n",
    "df['Month'] = pd.to_datetime(df['Month'], format='%B').dt.month\n",
    "df['date'] = pd.to_datetime(df[['Year', 'Month']].assign(DAY=1))\n",
    "df = df[['date', 'demand_new']].sort_values(['date']).reset_index(drop=True)\n",
    "\n",
    "# print(df.tail(3))\n",
    "df = df[:-1]\n",
    "\n",
    "df['demand_new'] = df['demand_new'].apply(lambda x: x.replace(' ', '')).astype('int')\n",
    "\n",
    "df.head()"
   ],
   "metadata": {
    "collapsed": false
   }
  },
  {
   "cell_type": "code",
   "execution_count": 106,
   "outputs": [
    {
     "data": {
      "text/plain": "        date  inflation_rate\n0 1991-01-01           109.0\n1 1991-02-01           105.9\n2 1991-03-01           104.6\n3 1991-04-01           170.5\n4 1991-05-01           105.4",
      "text/html": "<div>\n<style scoped>\n    .dataframe tbody tr th:only-of-type {\n        vertical-align: middle;\n    }\n\n    .dataframe tbody tr th {\n        vertical-align: top;\n    }\n\n    .dataframe thead th {\n        text-align: right;\n    }\n</style>\n<table border=\"1\" class=\"dataframe\">\n  <thead>\n    <tr style=\"text-align: right;\">\n      <th></th>\n      <th>date</th>\n      <th>inflation_rate</th>\n    </tr>\n  </thead>\n  <tbody>\n    <tr>\n      <th>0</th>\n      <td>1991-01-01</td>\n      <td>109.0</td>\n    </tr>\n    <tr>\n      <th>1</th>\n      <td>1991-02-01</td>\n      <td>105.9</td>\n    </tr>\n    <tr>\n      <th>2</th>\n      <td>1991-03-01</td>\n      <td>104.6</td>\n    </tr>\n    <tr>\n      <th>3</th>\n      <td>1991-04-01</td>\n      <td>170.5</td>\n    </tr>\n    <tr>\n      <th>4</th>\n      <td>1991-05-01</td>\n      <td>105.4</td>\n    </tr>\n  </tbody>\n</table>\n</div>"
     },
     "execution_count": 106,
     "metadata": {},
     "output_type": "execute_result"
    }
   ],
   "source": [
    "# Индексы потребительских цен на непродовольственные товары по Российской Федерации в 1991-2022гг.\n",
    "inf_df = pd.read_excel('inflation.xlsx')  # https://rosstat.gov.ru/statistics/price\n",
    "\n",
    "inf_df = pd.melt(inf_df, id_vars=['month'])\\\n",
    "    .rename({'variable': 'year', 'value': 'inflation_rate'}, axis=1)\n",
    "inf_df['date'] = pd.to_datetime(inf_df[['year', 'month']].assign(DAY=1))\n",
    "\n",
    "inf_df = inf_df[['date', 'inflation_rate']].sort_values(['date']).reset_index(drop=True)\n",
    "\n",
    "# print(inf_df.tail(3))\n",
    "inf_df = inf_df[:-1]\n",
    "\n",
    "inf_df['inflation_rate'] = inf_df['inflation_rate'].astype('float')\n",
    "\n",
    "inf_df.head()"
   ],
   "metadata": {
    "collapsed": false
   }
  },
  {
   "cell_type": "code",
   "execution_count": 107,
   "outputs": [
    {
     "data": {
      "text/plain": "        date  close_price\n0 2005-01-01        45.87\n1 2005-02-01        50.14\n2 2005-03-01        53.05\n3 2005-04-01        49.33\n4 2005-05-01        49.83",
      "text/html": "<div>\n<style scoped>\n    .dataframe tbody tr th:only-of-type {\n        vertical-align: middle;\n    }\n\n    .dataframe tbody tr th {\n        vertical-align: top;\n    }\n\n    .dataframe thead th {\n        text-align: right;\n    }\n</style>\n<table border=\"1\" class=\"dataframe\">\n  <thead>\n    <tr style=\"text-align: right;\">\n      <th></th>\n      <th>date</th>\n      <th>close_price</th>\n    </tr>\n  </thead>\n  <tbody>\n    <tr>\n      <th>0</th>\n      <td>2005-01-01</td>\n      <td>45.87</td>\n    </tr>\n    <tr>\n      <th>1</th>\n      <td>2005-02-01</td>\n      <td>50.14</td>\n    </tr>\n    <tr>\n      <th>2</th>\n      <td>2005-03-01</td>\n      <td>53.05</td>\n    </tr>\n    <tr>\n      <th>3</th>\n      <td>2005-04-01</td>\n      <td>49.33</td>\n    </tr>\n    <tr>\n      <th>4</th>\n      <td>2005-05-01</td>\n      <td>49.83</td>\n    </tr>\n  </tbody>\n</table>\n</div>"
     },
     "execution_count": 107,
     "metadata": {},
     "output_type": "execute_result"
    }
   ],
   "source": [
    "brent_df = pd.read_csv('ICE.BRN_050101_230109.txt')     # https://www.finam.ru/profile/tovary/brent/export/\n",
    "\n",
    "brent_df = brent_df[['<DATE>', '<CLOSE>']].rename({'<DATE>': 'date', '<CLOSE>': 'close_price'}, axis=1)\n",
    "brent_df['date'] = pd.to_datetime(brent_df['date'], format='%Y%m%d')\n",
    "\n",
    "brent_df.head()"
   ],
   "metadata": {
    "collapsed": false
   }
  },
  {
   "cell_type": "code",
   "execution_count": 107,
   "outputs": [],
   "source": [],
   "metadata": {
    "collapsed": false
   }
  }
 ],
 "metadata": {
  "kernelspec": {
   "display_name": "Python 3",
   "language": "python",
   "name": "python3"
  },
  "language_info": {
   "codemirror_mode": {
    "name": "ipython",
    "version": 2
   },
   "file_extension": ".py",
   "mimetype": "text/x-python",
   "name": "python",
   "nbconvert_exporter": "python",
   "pygments_lexer": "ipython2",
   "version": "2.7.6"
  }
 },
 "nbformat": 4,
 "nbformat_minor": 0
}
