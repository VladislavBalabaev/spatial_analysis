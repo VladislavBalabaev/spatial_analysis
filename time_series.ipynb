{
 "cells": [
  {
   "cell_type": "markdown",
   "source": [
    "1) Анализ временных рядов помесячных продаж (с 2006 г.) б/у и новых автомобилей.\n",
    "Построить ARIMA и ECM, показатели взять: общий уровень цен, курс валюты, ВВП (лучше не его), уровень доходов.\n",
    "Лучше, если по регионам."
   ],
   "metadata": {
    "collapsed": false
   }
  },
  {
   "cell_type": "markdown",
   "source": [
    "http://greenway.icnet.ru/cars-sales-actual-russia.html - useful material\n",
    "https://www.autostat.ru/press-releases/47248/ - top 30 regions by ..."
   ],
   "metadata": {
    "collapsed": false
   }
  },
  {
   "cell_type": "markdown",
   "source": [
    "Рынок легковых автомобилей с пробегом в сентябре 2022 года\n",
    "За дополнительной информацией обращайтесь в агентство «АВТОСТАТ» к Азату Тимерханову\n",
    "по телефонам: +7 (8482) 95-64-36, +7 (499) 685-01-51, или по e-mail: press@autostat.ru\n",
    "\n",
    "https://www.autostat.ru/research/product/322/ - RADAR"
   ],
   "metadata": {
    "collapsed": false
   }
  },
  {
   "cell_type": "code",
   "execution_count": 277,
   "outputs": [
    {
     "data": {
      "text/plain": "          date  demand_new\n198 2022-07-01       36605\n199 2022-08-01       47090\n200 2022-09-01       52738\n201 2022-10-01       45228\n202 2022-11-01       46403",
      "text/html": "<div>\n<style scoped>\n    .dataframe tbody tr th:only-of-type {\n        vertical-align: middle;\n    }\n\n    .dataframe tbody tr th {\n        vertical-align: top;\n    }\n\n    .dataframe thead th {\n        text-align: right;\n    }\n</style>\n<table border=\"1\" class=\"dataframe\">\n  <thead>\n    <tr style=\"text-align: right;\">\n      <th></th>\n      <th>date</th>\n      <th>demand_new</th>\n    </tr>\n  </thead>\n  <tbody>\n    <tr>\n      <th>198</th>\n      <td>2022-07-01</td>\n      <td>36605</td>\n    </tr>\n    <tr>\n      <th>199</th>\n      <td>2022-08-01</td>\n      <td>47090</td>\n    </tr>\n    <tr>\n      <th>200</th>\n      <td>2022-09-01</td>\n      <td>52738</td>\n    </tr>\n    <tr>\n      <th>201</th>\n      <td>2022-10-01</td>\n      <td>45228</td>\n    </tr>\n    <tr>\n      <th>202</th>\n      <td>2022-11-01</td>\n      <td>46403</td>\n    </tr>\n  </tbody>\n</table>\n</div>"
     },
     "execution_count": 277,
     "metadata": {},
     "output_type": "execute_result"
    }
   ],
   "source": [
    "import pandas as pd\n",
    "\n",
    "demand_df = pd.read_excel('data_time_series/demand_for_new_cars.xlsx')  # https://auto.vercity.ru/statistics/sales/europe/russia/\n",
    "\n",
    "demand_df = pd.melt(demand_df, id_vars=['Year'])\\\n",
    "    .rename({'variable': 'Month', 'value': 'demand_new'}, axis=1)\n",
    "demand_df['Month'] = pd.to_datetime(demand_df['Month'], format='%B').dt.month\n",
    "demand_df['date'] = pd.to_datetime(demand_df[['Year', 'Month']].assign(DAY=1))\n",
    "demand_df = demand_df[['date', 'demand_new']].sort_values(['date']).reset_index(drop=True)\n",
    "\n",
    "# print(demand_df.tail(3))\n",
    "demand_df = demand_df[:-1]\n",
    "\n",
    "demand_df['demand_new'] = demand_df['demand_new'].apply(lambda x: x.replace(' ', '')).astype('int')\n",
    "\n",
    "demand_df.tail()"
   ],
   "metadata": {
    "collapsed": false
   }
  },
  {
   "cell_type": "code",
   "execution_count": 278,
   "outputs": [
    {
     "data": {
      "text/plain": "          date  inflation_rate\n378 2022-07-01           99.56\n379 2022-08-01           99.95\n380 2022-09-01          100.15\n381 2022-10-01          100.04\n382 2022-11-01          100.06",
      "text/html": "<div>\n<style scoped>\n    .dataframe tbody tr th:only-of-type {\n        vertical-align: middle;\n    }\n\n    .dataframe tbody tr th {\n        vertical-align: top;\n    }\n\n    .dataframe thead th {\n        text-align: right;\n    }\n</style>\n<table border=\"1\" class=\"dataframe\">\n  <thead>\n    <tr style=\"text-align: right;\">\n      <th></th>\n      <th>date</th>\n      <th>inflation_rate</th>\n    </tr>\n  </thead>\n  <tbody>\n    <tr>\n      <th>378</th>\n      <td>2022-07-01</td>\n      <td>99.56</td>\n    </tr>\n    <tr>\n      <th>379</th>\n      <td>2022-08-01</td>\n      <td>99.95</td>\n    </tr>\n    <tr>\n      <th>380</th>\n      <td>2022-09-01</td>\n      <td>100.15</td>\n    </tr>\n    <tr>\n      <th>381</th>\n      <td>2022-10-01</td>\n      <td>100.04</td>\n    </tr>\n    <tr>\n      <th>382</th>\n      <td>2022-11-01</td>\n      <td>100.06</td>\n    </tr>\n  </tbody>\n</table>\n</div>"
     },
     "execution_count": 278,
     "metadata": {},
     "output_type": "execute_result"
    }
   ],
   "source": [
    "# Индексы потребительских цен на непродовольственные товары по Российской Федерации в 1991-2022гг.\n",
    "inf_df = pd.read_excel('data_time_series/inflation.xlsx')  # https://rosstat.gov.ru/statistics/price\n",
    "\n",
    "inf_df = pd.melt(inf_df, id_vars=['month'])\\\n",
    "    .rename({'variable': 'year', 'value': 'inflation_rate'}, axis=1)\n",
    "inf_df['date'] = pd.to_datetime(inf_df[['year', 'month']].assign(DAY=1))\n",
    "\n",
    "inf_df = inf_df[['date', 'inflation_rate']].sort_values(['date']).reset_index(drop=True)\n",
    "\n",
    "# print(inf_df.tail(3))\n",
    "inf_df = inf_df[:-1]\n",
    "\n",
    "inf_df['inflation_rate'] = inf_df['inflation_rate'].astype('float')\n",
    "\n",
    "inf_df.tail()"
   ],
   "metadata": {
    "collapsed": false
   }
  },
  {
   "cell_type": "code",
   "execution_count": 279,
   "outputs": [
    {
     "data": {
      "text/plain": "          date  brent_close_price\n212 2022-09-01              85.57\n213 2022-10-01              92.85\n214 2022-11-01              86.64\n215 2022-12-01              85.97\n216 2023-01-01              79.45",
      "text/html": "<div>\n<style scoped>\n    .dataframe tbody tr th:only-of-type {\n        vertical-align: middle;\n    }\n\n    .dataframe tbody tr th {\n        vertical-align: top;\n    }\n\n    .dataframe thead th {\n        text-align: right;\n    }\n</style>\n<table border=\"1\" class=\"dataframe\">\n  <thead>\n    <tr style=\"text-align: right;\">\n      <th></th>\n      <th>date</th>\n      <th>brent_close_price</th>\n    </tr>\n  </thead>\n  <tbody>\n    <tr>\n      <th>212</th>\n      <td>2022-09-01</td>\n      <td>85.57</td>\n    </tr>\n    <tr>\n      <th>213</th>\n      <td>2022-10-01</td>\n      <td>92.85</td>\n    </tr>\n    <tr>\n      <th>214</th>\n      <td>2022-11-01</td>\n      <td>86.64</td>\n    </tr>\n    <tr>\n      <th>215</th>\n      <td>2022-12-01</td>\n      <td>85.97</td>\n    </tr>\n    <tr>\n      <th>216</th>\n      <td>2023-01-01</td>\n      <td>79.45</td>\n    </tr>\n  </tbody>\n</table>\n</div>"
     },
     "execution_count": 279,
     "metadata": {},
     "output_type": "execute_result"
    }
   ],
   "source": [
    "brent_df = pd.read_csv('data_time_series/ICE.BRN_050101_230109.txt')     # https://www.finam.ru/profile/tovary/brent/export/\n",
    "\n",
    "brent_df = brent_df[['<DATE>', '<CLOSE>']].rename({'<DATE>': 'date', '<CLOSE>': 'brent_close_price'}, axis=1)\n",
    "brent_df['date'] = pd.to_datetime(brent_df['date'], format='%Y%m%d')\n",
    "\n",
    "brent_df.tail()"
   ],
   "metadata": {
    "collapsed": false
   }
  },
  {
   "cell_type": "code",
   "execution_count": 280,
   "outputs": [
    {
     "name": "stdout",
     "output_type": "stream",
     "text": [
      "Correlation between petrol 92 and petrol 95: 0.9985\n"
     ]
    },
    {
     "data": {
      "text/plain": "          date  pp_petrol_95\n187 2021-08-01         818.4\n188 2021-09-01         818.4\n189 2021-10-01         818.4\n190 2021-11-01         818.4\n191 2021-12-01         818.4",
      "text/html": "<div>\n<style scoped>\n    .dataframe tbody tr th:only-of-type {\n        vertical-align: middle;\n    }\n\n    .dataframe tbody tr th {\n        vertical-align: top;\n    }\n\n    .dataframe thead th {\n        text-align: right;\n    }\n</style>\n<table border=\"1\" class=\"dataframe\">\n  <thead>\n    <tr style=\"text-align: right;\">\n      <th></th>\n      <th>date</th>\n      <th>pp_petrol_95</th>\n    </tr>\n  </thead>\n  <tbody>\n    <tr>\n      <th>187</th>\n      <td>2021-08-01</td>\n      <td>818.4</td>\n    </tr>\n    <tr>\n      <th>188</th>\n      <td>2021-09-01</td>\n      <td>818.4</td>\n    </tr>\n    <tr>\n      <th>189</th>\n      <td>2021-10-01</td>\n      <td>818.4</td>\n    </tr>\n    <tr>\n      <th>190</th>\n      <td>2021-11-01</td>\n      <td>818.4</td>\n    </tr>\n    <tr>\n      <th>191</th>\n      <td>2021-12-01</td>\n      <td>818.4</td>\n    </tr>\n  </tbody>\n</table>\n</div>"
     },
     "execution_count": 280,
     "metadata": {},
     "output_type": "execute_result"
    }
   ],
   "source": [
    "pp_df = pd.read_excel('data_time_series/purchasing_power.xlsx')     # https://www.fedstat.ru/indicator/31326\n",
    "\n",
    "pp_df.columns = ['year', 'Product', 'Russia']\n",
    "\n",
    "pp_df['year'] = pp_df['year'].fillna(method='ffill').astype('int')\n",
    "pp_df = pp_df[pp_df['year'] >= 2006]\n",
    "pp_df = pp_df[pp_df['Product'] != 'Бензин']\n",
    "\n",
    "pp_df = pp_df.pivot(index='year', columns='Product', values='Russia')\n",
    "pp_df = pp_df.reset_index(drop=False)\n",
    "pp_df.columns = ['year', 'pp_petrol_92', 'pp_petrol_95', 'pp_city_bus', 'pp_municipal_bus']\n",
    "\n",
    "print(f\"Correlation between petrol 92 and petrol 95: {pp_df[['pp_petrol_92', 'pp_petrol_95']].corr().iloc[0, 1].round(4)}\")\n",
    "\n",
    "pp_df = pp_df[['year', 'pp_petrol_95']]\n",
    "\n",
    "def df_year_to_months(df_input):\n",
    "    df = pd.concat([df_input for _ in range(12)]).sort_values('year').reset_index(drop=True)\n",
    "    df['year'] = pd.to_datetime(df['year'], format='%Y')\n",
    "    df['year'] = df.apply(lambda x: x['year'] + pd.DateOffset(months=x.name % 12), axis=1)\n",
    "    df = df.rename({'year': 'date'}, axis=1)\n",
    "    return df\n",
    "\n",
    "pp_df = df_year_to_months(pp_df)\n",
    "\n",
    "pp_df.tail()"
   ],
   "metadata": {
    "collapsed": false
   }
  },
  {
   "cell_type": "code",
   "execution_count": 281,
   "outputs": [
    {
     "data": {
      "text/plain": "          date nominal_income\n319 2021-08-01        40272.0\n320 2021-09-01        40272.0\n321 2021-10-01        40272.0\n322 2021-11-01        40272.0\n323 2021-12-01        40272.0",
      "text/html": "<div>\n<style scoped>\n    .dataframe tbody tr th:only-of-type {\n        vertical-align: middle;\n    }\n\n    .dataframe tbody tr th {\n        vertical-align: top;\n    }\n\n    .dataframe thead th {\n        text-align: right;\n    }\n</style>\n<table border=\"1\" class=\"dataframe\">\n  <thead>\n    <tr style=\"text-align: right;\">\n      <th></th>\n      <th>date</th>\n      <th>nominal_income</th>\n    </tr>\n  </thead>\n  <tbody>\n    <tr>\n      <th>319</th>\n      <td>2021-08-01</td>\n      <td>40272.0</td>\n    </tr>\n    <tr>\n      <th>320</th>\n      <td>2021-09-01</td>\n      <td>40272.0</td>\n    </tr>\n    <tr>\n      <th>321</th>\n      <td>2021-10-01</td>\n      <td>40272.0</td>\n    </tr>\n    <tr>\n      <th>322</th>\n      <td>2021-11-01</td>\n      <td>40272.0</td>\n    </tr>\n    <tr>\n      <th>323</th>\n      <td>2021-12-01</td>\n      <td>40272.0</td>\n    </tr>\n  </tbody>\n</table>\n</div>"
     },
     "execution_count": 281,
     "metadata": {},
     "output_type": "execute_result"
    }
   ],
   "source": [
    "income_df = pd.read_excel('data_time_series/nominal_income.xlsx')   # https://www.fedstat.ru/indicator/30992\n",
    "\n",
    "income_df = income_df[income_df['Region'] == 'Российская Федерация']\n",
    "income_df = income_df.T.reset_index()\n",
    "income_df.columns = ['year', 'nominal_income']\n",
    "\n",
    "income_df = income_df.drop(0, axis=0).reset_index(drop=True)\n",
    "\n",
    "income_df = df_year_to_months(income_df)\n",
    "\n",
    "income_df.tail()"
   ],
   "metadata": {
    "collapsed": false
   }
  },
  {
   "cell_type": "code",
   "execution_count": 282,
   "outputs": [
    {
     "data": {
      "text/plain": "          date  usdrub_close_price\n323 2022-10-01               60.75\n324 2022-11-01               61.70\n325 2022-12-01               60.90\n326 2023-01-01               73.20\n327 2023-02-01               72.77",
      "text/html": "<div>\n<style scoped>\n    .dataframe tbody tr th:only-of-type {\n        vertical-align: middle;\n    }\n\n    .dataframe tbody tr th {\n        vertical-align: top;\n    }\n\n    .dataframe thead th {\n        text-align: right;\n    }\n</style>\n<table border=\"1\" class=\"dataframe\">\n  <thead>\n    <tr style=\"text-align: right;\">\n      <th></th>\n      <th>date</th>\n      <th>usdrub_close_price</th>\n    </tr>\n  </thead>\n  <tbody>\n    <tr>\n      <th>323</th>\n      <td>2022-10-01</td>\n      <td>60.75</td>\n    </tr>\n    <tr>\n      <th>324</th>\n      <td>2022-11-01</td>\n      <td>61.70</td>\n    </tr>\n    <tr>\n      <th>325</th>\n      <td>2022-12-01</td>\n      <td>60.90</td>\n    </tr>\n    <tr>\n      <th>326</th>\n      <td>2023-01-01</td>\n      <td>73.20</td>\n    </tr>\n    <tr>\n      <th>327</th>\n      <td>2023-02-01</td>\n      <td>72.77</td>\n    </tr>\n  </tbody>\n</table>\n</div>"
     },
     "execution_count": 282,
     "metadata": {},
     "output_type": "execute_result"
    }
   ],
   "source": [
    "# HAVEN'T USED\n",
    "\n",
    "usdrub_df = pd.read_csv('data_time_series/usdrub_m.csv')    # https://stooq.com/q/d/?s=usdrub&c=0&o=1111111&i=m&o_s=1&o_d=1&o_p=1&o_n=1&o_o=1&o_m=1&o_x=1\n",
    "\n",
    "usdrub_df = usdrub_df[['Date', 'Close']].rename({'Date': 'date', 'Close': 'usdrub_close_price'}, axis=1)\n",
    "\n",
    "usdrub_df['date'] = pd.DatetimeIndex(usdrub_df['date']) + pd.DateOffset(1)\n",
    "\n",
    "usdrub_df.tail()"
   ],
   "metadata": {
    "collapsed": false
   }
  },
  {
   "cell_type": "code",
   "execution_count": 291,
   "outputs": [
    {
     "data": {
      "text/plain": "          date  rbrubis\n342 2022-07-01   115.52\n343 2022-08-01   110.73\n344 2022-09-01   113.90\n345 2022-10-01   112.43\n346 2022-11-01   110.31",
      "text/html": "<div>\n<style scoped>\n    .dataframe tbody tr th:only-of-type {\n        vertical-align: middle;\n    }\n\n    .dataframe tbody tr th {\n        vertical-align: top;\n    }\n\n    .dataframe thead th {\n        text-align: right;\n    }\n</style>\n<table border=\"1\" class=\"dataframe\">\n  <thead>\n    <tr style=\"text-align: right;\">\n      <th></th>\n      <th>date</th>\n      <th>rbrubis</th>\n    </tr>\n  </thead>\n  <tbody>\n    <tr>\n      <th>342</th>\n      <td>2022-07-01</td>\n      <td>115.52</td>\n    </tr>\n    <tr>\n      <th>343</th>\n      <td>2022-08-01</td>\n      <td>110.73</td>\n    </tr>\n    <tr>\n      <th>344</th>\n      <td>2022-09-01</td>\n      <td>113.90</td>\n    </tr>\n    <tr>\n      <th>345</th>\n      <td>2022-10-01</td>\n      <td>112.43</td>\n    </tr>\n    <tr>\n      <th>346</th>\n      <td>2022-11-01</td>\n      <td>110.31</td>\n    </tr>\n  </tbody>\n</table>\n</div>"
     },
     "execution_count": 291,
     "metadata": {},
     "output_type": "execute_result"
    }
   ],
   "source": [
    "# Real Broad Effective Exchange Rate for Russia\n",
    "rbrubis_df = pd.read_csv('data_time_series/RBRUBIS.csv')    # https://fred.stlouisfed.org/series/RBRUBIS\n",
    "rbrubis_df = rbrubis_df.rename({'DATE': 'date', 'RBRUBIS': 'rbrubis'}, axis=1)\n",
    "rbrubis_df['date'] = pd.to_datetime(rbrubis_df['date'])\n",
    "\n",
    "rbrubis_df.tail()"
   ],
   "metadata": {
    "collapsed": false
   }
  },
  {
   "cell_type": "code",
   "execution_count": 292,
   "outputs": [
    {
     "data": {
      "text/plain": "          date real_income real_wage real_pension   Gini\n367 2021-08-01       103.2     104.5        104.1  0.409\n368 2021-09-01       103.2     104.5        104.1  0.409\n369 2021-10-01       103.2     104.5        104.1  0.409\n370 2021-11-01       103.2     104.5        104.1  0.409\n371 2021-12-01       103.2     104.5        104.1  0.409",
      "text/html": "<div>\n<style scoped>\n    .dataframe tbody tr th:only-of-type {\n        vertical-align: middle;\n    }\n\n    .dataframe tbody tr th {\n        vertical-align: top;\n    }\n\n    .dataframe thead th {\n        text-align: right;\n    }\n</style>\n<table border=\"1\" class=\"dataframe\">\n  <thead>\n    <tr style=\"text-align: right;\">\n      <th></th>\n      <th>date</th>\n      <th>real_income</th>\n      <th>real_wage</th>\n      <th>real_pension</th>\n      <th>Gini</th>\n    </tr>\n  </thead>\n  <tbody>\n    <tr>\n      <th>367</th>\n      <td>2021-08-01</td>\n      <td>103.2</td>\n      <td>104.5</td>\n      <td>104.1</td>\n      <td>0.409</td>\n    </tr>\n    <tr>\n      <th>368</th>\n      <td>2021-09-01</td>\n      <td>103.2</td>\n      <td>104.5</td>\n      <td>104.1</td>\n      <td>0.409</td>\n    </tr>\n    <tr>\n      <th>369</th>\n      <td>2021-10-01</td>\n      <td>103.2</td>\n      <td>104.5</td>\n      <td>104.1</td>\n      <td>0.409</td>\n    </tr>\n    <tr>\n      <th>370</th>\n      <td>2021-11-01</td>\n      <td>103.2</td>\n      <td>104.5</td>\n      <td>104.1</td>\n      <td>0.409</td>\n    </tr>\n    <tr>\n      <th>371</th>\n      <td>2021-12-01</td>\n      <td>103.2</td>\n      <td>104.5</td>\n      <td>104.1</td>\n      <td>0.409</td>\n    </tr>\n  </tbody>\n</table>\n</div>"
     },
     "execution_count": 292,
     "metadata": {},
     "output_type": "execute_result"
    }
   ],
   "source": [
    "indicators_df = pd.read_excel('data_time_series/indicators.xlsx')      # https://rosstat.gov.ru/folder/210/document/13396\n",
    "\n",
    "indicators_df = indicators_df.T.reset_index()\n",
    "indicators_df.columns = ['year', 'real_income', 'real_wage', 'real_pension', 'Gini']\n",
    "indicators_df = indicators_df.drop(0, axis=0).reset_index(drop=True)\n",
    "\n",
    "indicators_df = df_year_to_months(indicators_df)\n",
    "\n",
    "indicators_df.tail()"
   ],
   "metadata": {
    "collapsed": false
   }
  },
  {
   "cell_type": "code",
   "execution_count": 294,
   "outputs": [
    {
     "data": {
      "text/plain": "          date  demand_new  inflation_rate  brent_close_price  pp_petrol_95  \\\n0   2006-01-01       95253          100.41              65.43         533.0   \n1   2006-02-01      116309          100.45              60.05         533.0   \n2   2006-03-01      147308          100.42              64.94         533.0   \n3   2006-04-01      169045          100.28              72.00         533.0   \n4   2006-05-01      165121          100.41              69.00         533.0   \n..         ...         ...             ...                ...           ...   \n187 2021-08-01      121329          100.80              71.70         818.4   \n188 2021-09-01      127025          100.64              78.36         818.4   \n189 2021-10-01      133256          100.78              83.25         818.4   \n190 2021-11-01      132474          100.72              71.15         818.4   \n191 2021-12-01      140939          100.64              77.94         818.4   \n\n    nominal_income  rbrubis real_income real_wage real_pension   Gini  \n0          10154.8    84.78  113.466448     113.3        105.1  0.415  \n1          10154.8    87.08  113.466448     113.3        105.1  0.415  \n2          10154.8    88.40  113.466448     113.3        105.1  0.415  \n3          10154.8    88.03  113.466448     113.3        105.1  0.415  \n4          10154.8    87.34  113.466448     113.3        105.1  0.415  \n..             ...      ...         ...       ...          ...    ...  \n187        40272.0    76.33       103.2     104.5        104.1  0.409  \n188        40272.0    77.24       103.2     104.5        104.1  0.409  \n189        40272.0    79.98       103.2     104.5        104.1  0.409  \n190        40272.0    79.65       103.2     104.5        104.1  0.409  \n191        40272.0    79.58       103.2     104.5        104.1  0.409  \n\n[192 rows x 11 columns]",
      "text/html": "<div>\n<style scoped>\n    .dataframe tbody tr th:only-of-type {\n        vertical-align: middle;\n    }\n\n    .dataframe tbody tr th {\n        vertical-align: top;\n    }\n\n    .dataframe thead th {\n        text-align: right;\n    }\n</style>\n<table border=\"1\" class=\"dataframe\">\n  <thead>\n    <tr style=\"text-align: right;\">\n      <th></th>\n      <th>date</th>\n      <th>demand_new</th>\n      <th>inflation_rate</th>\n      <th>brent_close_price</th>\n      <th>pp_petrol_95</th>\n      <th>nominal_income</th>\n      <th>rbrubis</th>\n      <th>real_income</th>\n      <th>real_wage</th>\n      <th>real_pension</th>\n      <th>Gini</th>\n    </tr>\n  </thead>\n  <tbody>\n    <tr>\n      <th>0</th>\n      <td>2006-01-01</td>\n      <td>95253</td>\n      <td>100.41</td>\n      <td>65.43</td>\n      <td>533.0</td>\n      <td>10154.8</td>\n      <td>84.78</td>\n      <td>113.466448</td>\n      <td>113.3</td>\n      <td>105.1</td>\n      <td>0.415</td>\n    </tr>\n    <tr>\n      <th>1</th>\n      <td>2006-02-01</td>\n      <td>116309</td>\n      <td>100.45</td>\n      <td>60.05</td>\n      <td>533.0</td>\n      <td>10154.8</td>\n      <td>87.08</td>\n      <td>113.466448</td>\n      <td>113.3</td>\n      <td>105.1</td>\n      <td>0.415</td>\n    </tr>\n    <tr>\n      <th>2</th>\n      <td>2006-03-01</td>\n      <td>147308</td>\n      <td>100.42</td>\n      <td>64.94</td>\n      <td>533.0</td>\n      <td>10154.8</td>\n      <td>88.40</td>\n      <td>113.466448</td>\n      <td>113.3</td>\n      <td>105.1</td>\n      <td>0.415</td>\n    </tr>\n    <tr>\n      <th>3</th>\n      <td>2006-04-01</td>\n      <td>169045</td>\n      <td>100.28</td>\n      <td>72.00</td>\n      <td>533.0</td>\n      <td>10154.8</td>\n      <td>88.03</td>\n      <td>113.466448</td>\n      <td>113.3</td>\n      <td>105.1</td>\n      <td>0.415</td>\n    </tr>\n    <tr>\n      <th>4</th>\n      <td>2006-05-01</td>\n      <td>165121</td>\n      <td>100.41</td>\n      <td>69.00</td>\n      <td>533.0</td>\n      <td>10154.8</td>\n      <td>87.34</td>\n      <td>113.466448</td>\n      <td>113.3</td>\n      <td>105.1</td>\n      <td>0.415</td>\n    </tr>\n    <tr>\n      <th>...</th>\n      <td>...</td>\n      <td>...</td>\n      <td>...</td>\n      <td>...</td>\n      <td>...</td>\n      <td>...</td>\n      <td>...</td>\n      <td>...</td>\n      <td>...</td>\n      <td>...</td>\n      <td>...</td>\n    </tr>\n    <tr>\n      <th>187</th>\n      <td>2021-08-01</td>\n      <td>121329</td>\n      <td>100.80</td>\n      <td>71.70</td>\n      <td>818.4</td>\n      <td>40272.0</td>\n      <td>76.33</td>\n      <td>103.2</td>\n      <td>104.5</td>\n      <td>104.1</td>\n      <td>0.409</td>\n    </tr>\n    <tr>\n      <th>188</th>\n      <td>2021-09-01</td>\n      <td>127025</td>\n      <td>100.64</td>\n      <td>78.36</td>\n      <td>818.4</td>\n      <td>40272.0</td>\n      <td>77.24</td>\n      <td>103.2</td>\n      <td>104.5</td>\n      <td>104.1</td>\n      <td>0.409</td>\n    </tr>\n    <tr>\n      <th>189</th>\n      <td>2021-10-01</td>\n      <td>133256</td>\n      <td>100.78</td>\n      <td>83.25</td>\n      <td>818.4</td>\n      <td>40272.0</td>\n      <td>79.98</td>\n      <td>103.2</td>\n      <td>104.5</td>\n      <td>104.1</td>\n      <td>0.409</td>\n    </tr>\n    <tr>\n      <th>190</th>\n      <td>2021-11-01</td>\n      <td>132474</td>\n      <td>100.72</td>\n      <td>71.15</td>\n      <td>818.4</td>\n      <td>40272.0</td>\n      <td>79.65</td>\n      <td>103.2</td>\n      <td>104.5</td>\n      <td>104.1</td>\n      <td>0.409</td>\n    </tr>\n    <tr>\n      <th>191</th>\n      <td>2021-12-01</td>\n      <td>140939</td>\n      <td>100.64</td>\n      <td>77.94</td>\n      <td>818.4</td>\n      <td>40272.0</td>\n      <td>79.58</td>\n      <td>103.2</td>\n      <td>104.5</td>\n      <td>104.1</td>\n      <td>0.409</td>\n    </tr>\n  </tbody>\n</table>\n<p>192 rows × 11 columns</p>\n</div>"
     },
     "execution_count": 294,
     "metadata": {},
     "output_type": "execute_result"
    }
   ],
   "source": [
    "all_df = demand_df\n",
    "other_dfs = [inf_df, brent_df, pp_df, income_df, rbrubis_df, indicators_df]\n",
    "\n",
    "for df_i in other_dfs:\n",
    "    all_df = pd.merge(all_df, df_i)\n",
    "\n",
    "all_df"
   ],
   "metadata": {
    "collapsed": false
   }
  }
 ],
 "metadata": {
  "kernelspec": {
   "display_name": "Python 3",
   "language": "python",
   "name": "python3"
  },
  "language_info": {
   "codemirror_mode": {
    "name": "ipython",
    "version": 2
   },
   "file_extension": ".py",
   "mimetype": "text/x-python",
   "name": "python",
   "nbconvert_exporter": "python",
   "pygments_lexer": "ipython2",
   "version": "2.7.6"
  }
 },
 "nbformat": 4,
 "nbformat_minor": 0
}
